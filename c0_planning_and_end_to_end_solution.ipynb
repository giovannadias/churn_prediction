{
 "cells": [
  {
   "cell_type": "markdown",
   "id": "8fbee58c",
   "metadata": {},
   "source": [
    "# IoT Planning "
   ]
  },
  {
   "cell_type": "markdown",
   "id": "6d5fa22d",
   "metadata": {},
   "source": [
    "**Input**: data from telco's customers with demographic, services and account information.\n",
    "\n",
    "**Output**: flask application with form to be filled with customer's information. The application should return with the prediction result if the customer will or will not churn in that month.\n",
    "\n",
    "**Tasks**:\n",
    "- data description\n",
    "- end-to-end solution\n",
    "- metrics definition\n",
    "- data cleaning\n",
    "- check the unbalency\n",
    "- feature engineering\n",
    "- eda\n",
    "- data preparation\n",
    "- feature selection\n",
    "- ml models\n",
    "- hyperparameters fine tuning\n",
    "- deploy"
   ]
  },
  {
   "cell_type": "markdown",
   "id": "ec595275",
   "metadata": {},
   "source": [
    "# 0.0 Imports"
   ]
  },
  {
   "cell_type": "code",
   "execution_count": 2,
   "id": "44e235bd",
   "metadata": {
    "ExecuteTime": {
     "end_time": "2022-02-11T10:35:52.154910Z",
     "start_time": "2022-02-11T10:35:48.580443Z"
    }
   },
   "outputs": [],
   "source": [
    "from IPython.core.display      import HTML\n",
    "from pycaret.classification import *\n",
    "\n",
    "import matplotlib.pyplot as plt\n",
    "import pandas            as pd\n",
    "import seaborn           as sns\n",
    "import numpy             as np\n",
    "\n",
    "import inflection"
   ]
  },
  {
   "cell_type": "markdown",
   "id": "c3ae6896",
   "metadata": {},
   "source": [
    "## 0.1 Helper Functions"
   ]
  },
  {
   "cell_type": "code",
   "execution_count": 3,
   "id": "e5a893a2",
   "metadata": {
    "ExecuteTime": {
     "end_time": "2022-02-11T10:36:45.168458Z",
     "start_time": "2022-02-11T10:36:45.115509Z"
    }
   },
   "outputs": [
    {
     "name": "stdout",
     "output_type": "stream",
     "text": [
      "Populating the interactive namespace from numpy and matplotlib\n"
     ]
    },
    {
     "data": {
      "text/html": [
       "<style>.container{width:100% !important; }</style>"
      ],
      "text/plain": [
       "<IPython.core.display.HTML object>"
      ]
     },
     "metadata": {},
     "output_type": "display_data"
    }
   ],
   "source": [
    "def jupyter_settings():\n",
    "    %matplotlib inline\n",
    "    %pylab inline\n",
    "    \n",
    "    plt.style.use('bmh')\n",
    "    plt.rcParams['figure.figsize'] = [25, 12]\n",
    "    plt.rcParams['font.size'] = 24\n",
    "    \n",
    "    display(HTML('<style>.container{width:100% !important; }</style>'))\n",
    "    pd.options.display.max_columns = None\n",
    "    pd.options.display.max_rows = None\n",
    "    pd.set_option('display.expand_frame_repr', False)\n",
    "    \n",
    "    sns.set\n",
    "\n",
    "jupyter_settings()"
   ]
  },
  {
   "cell_type": "markdown",
   "id": "66eb96b1",
   "metadata": {},
   "source": [
    "## 0.2 Load Data"
   ]
  },
  {
   "cell_type": "code",
   "execution_count": 4,
   "id": "7f82a4ea",
   "metadata": {
    "ExecuteTime": {
     "end_time": "2022-02-11T10:36:49.478652Z",
     "start_time": "2022-02-11T10:36:49.098525Z"
    }
   },
   "outputs": [],
   "source": [
    "df_train = pd.read_csv('data/train.csv')\n",
    "df_test = pd.read_csv('data/test.csv')"
   ]
  },
  {
   "cell_type": "markdown",
   "id": "a90668cf",
   "metadata": {},
   "source": [
    "# 1.0 Data Description"
   ]
  },
  {
   "cell_type": "code",
   "execution_count": 5,
   "id": "0144a017",
   "metadata": {
    "ExecuteTime": {
     "end_time": "2022-02-11T10:36:57.181495Z",
     "start_time": "2022-02-11T10:36:57.169307Z"
    }
   },
   "outputs": [],
   "source": [
    "df1 = df_train.copy()"
   ]
  },
  {
   "cell_type": "markdown",
   "id": "c123c15a",
   "metadata": {},
   "source": [
    "## 1.1 Data Dimension"
   ]
  },
  {
   "cell_type": "code",
   "execution_count": 6,
   "id": "43409956",
   "metadata": {
    "ExecuteTime": {
     "end_time": "2022-02-11T10:37:12.376272Z",
     "start_time": "2022-02-11T10:37:12.364277Z"
    }
   },
   "outputs": [
    {
     "name": "stdout",
     "output_type": "stream",
     "text": [
      "Number of rows: 5634\n",
      "Number of columns: 21\n"
     ]
    }
   ],
   "source": [
    "print('Number of rows: {}'.format(df1.shape[0]))\n",
    "print('Number of columns: {}'.format(df1.shape[1]))"
   ]
  },
  {
   "cell_type": "markdown",
   "id": "0a417353",
   "metadata": {},
   "source": [
    "## 1.2 Rename Columns"
   ]
  },
  {
   "cell_type": "code",
   "execution_count": 7,
   "id": "2ef362ff",
   "metadata": {
    "ExecuteTime": {
     "end_time": "2022-02-11T10:37:30.060367Z",
     "start_time": "2022-02-11T10:37:30.047353Z"
    }
   },
   "outputs": [],
   "source": [
    "cols_old = ['id', 'gender', 'SeniorCitizen', 'Partner', 'Dependents', 'tenure',\n",
    "            'PhoneService', 'MultipleLines', 'InternetService', 'OnlineSecurity',\n",
    "            'OnlineBackup', 'DeviceProtection', 'TechSupport', 'StreamingTV',\n",
    "            'StreamingMovies', 'Contract', 'PaperlessBilling', 'PaymentMethod',\n",
    "            'MonthlyCharges', 'TotalCharges', 'Churn']\n",
    "snakecase = lambda x: inflection.underscore(x)\n",
    "new_cols = list(map(snakecase, cols_old))\n",
    "df1.columns = new_cols"
   ]
  },
  {
   "cell_type": "code",
   "execution_count": 8,
   "id": "bfcee351",
   "metadata": {
    "ExecuteTime": {
     "end_time": "2022-02-11T10:37:55.381341Z",
     "start_time": "2022-02-11T10:37:55.354478Z"
    }
   },
   "outputs": [],
   "source": [
    "cols_old = ['id', 'gender', 'SeniorCitizen', 'Partner', 'Dependents', 'tenure',\n",
    "       'PhoneService', 'MultipleLines', 'InternetService', 'OnlineSecurity',\n",
    "       'OnlineBackup', 'DeviceProtection', 'TechSupport', 'StreamingTV',\n",
    "       'StreamingMovies', 'Contract', 'PaperlessBilling', 'PaymentMethod',\n",
    "       'MonthlyCharges', 'TotalCharges']\n",
    "snakecase = lambda x: inflection.underscore(x)\n",
    "new_cols = list(map(snakecase, cols_old))\n",
    "df_test.columns = new_cols"
   ]
  },
  {
   "cell_type": "markdown",
   "id": "a4c8ca03",
   "metadata": {},
   "source": [
    "## 1.3 Data Types"
   ]
  },
  {
   "cell_type": "code",
   "execution_count": 9,
   "id": "e3822608",
   "metadata": {
    "ExecuteTime": {
     "end_time": "2022-02-11T10:38:10.874185Z",
     "start_time": "2022-02-11T10:38:10.860194Z"
    }
   },
   "outputs": [
    {
     "data": {
      "text/plain": [
       "id                     int64\n",
       "gender                object\n",
       "senior_citizen         int64\n",
       "partner               object\n",
       "dependents            object\n",
       "tenure               float64\n",
       "phone_service         object\n",
       "multiple_lines        object\n",
       "internet_service      object\n",
       "online_security       object\n",
       "online_backup         object\n",
       "device_protection     object\n",
       "tech_support          object\n",
       "streaming_tv          object\n",
       "streaming_movies      object\n",
       "contract              object\n",
       "paperless_billing     object\n",
       "payment_method        object\n",
       "monthly_charges      float64\n",
       "total_charges         object\n",
       "churn                  int64\n",
       "dtype: object"
      ]
     },
     "execution_count": 9,
     "metadata": {},
     "output_type": "execute_result"
    }
   ],
   "source": [
    "df1.dtypes"
   ]
  },
  {
   "cell_type": "markdown",
   "id": "7917c400",
   "metadata": {},
   "source": [
    "## 1.4 Check N/A"
   ]
  },
  {
   "cell_type": "code",
   "execution_count": 10,
   "id": "8ed5a999",
   "metadata": {
    "ExecuteTime": {
     "end_time": "2022-02-11T10:38:29.243206Z",
     "start_time": "2022-02-11T10:38:29.216222Z"
    }
   },
   "outputs": [
    {
     "data": {
      "text/plain": [
       "id                     0\n",
       "gender                 0\n",
       "senior_citizen         0\n",
       "partner                0\n",
       "dependents           218\n",
       "tenure               461\n",
       "phone_service          0\n",
       "multiple_lines         0\n",
       "internet_service       0\n",
       "online_security        0\n",
       "online_backup          0\n",
       "device_protection      0\n",
       "tech_support           0\n",
       "streaming_tv           0\n",
       "streaming_movies       0\n",
       "contract               0\n",
       "paperless_billing      0\n",
       "payment_method        99\n",
       "monthly_charges        0\n",
       "total_charges          0\n",
       "churn                  0\n",
       "dtype: int64"
      ]
     },
     "execution_count": 10,
     "metadata": {},
     "output_type": "execute_result"
    }
   ],
   "source": [
    "df1.isna().sum()"
   ]
  },
  {
   "cell_type": "markdown",
   "id": "a76d8ce7",
   "metadata": {},
   "source": [
    "## 1.5 Check Balanced Data"
   ]
  },
  {
   "cell_type": "code",
   "execution_count": 11,
   "id": "09bf3eef",
   "metadata": {
    "ExecuteTime": {
     "end_time": "2022-02-11T10:38:47.282129Z",
     "start_time": "2022-02-11T10:38:47.244121Z"
    }
   },
   "outputs": [
    {
     "data": {
      "text/plain": [
       "0    0.734647\n",
       "1    0.265353\n",
       "Name: churn, dtype: float64"
      ]
     },
     "execution_count": 11,
     "metadata": {},
     "output_type": "execute_result"
    }
   ],
   "source": [
    "df1['churn'].value_counts(normalize=True)"
   ]
  },
  {
   "cell_type": "markdown",
   "id": "65504949",
   "metadata": {},
   "source": [
    "## 1.5 Drop N/A"
   ]
  },
  {
   "cell_type": "code",
   "execution_count": null,
   "id": "158b8001",
   "metadata": {
    "ExecuteTime": {
     "end_time": "2022-02-11T10:35:07.463551Z",
     "start_time": "2022-02-11T10:35:02.126Z"
    }
   },
   "outputs": [],
   "source": [
    "df1 = df1.dropna()"
   ]
  },
  {
   "cell_type": "markdown",
   "id": "2e08388c",
   "metadata": {},
   "source": [
    "## 1.6 Change Data Types"
   ]
  },
  {
   "cell_type": "code",
   "execution_count": null,
   "id": "8e84181a",
   "metadata": {
    "ExecuteTime": {
     "end_time": "2022-02-11T10:35:07.463551Z",
     "start_time": "2022-02-11T10:35:02.129Z"
    }
   },
   "outputs": [],
   "source": [
    "df1['total_charges'] = pd.to_numeric(df1['total_charges'], errors='coerce')"
   ]
  },
  {
   "cell_type": "code",
   "execution_count": null,
   "id": "a507e017",
   "metadata": {
    "ExecuteTime": {
     "end_time": "2022-02-11T10:35:07.463551Z",
     "start_time": "2022-02-11T10:35:02.132Z"
    }
   },
   "outputs": [],
   "source": [
    "df_test['total_charges'] = pd.to_numeric(df_test['total_charges'], errors='coerce')"
   ]
  },
  {
   "cell_type": "markdown",
   "id": "7b8e8bfd",
   "metadata": {},
   "source": [
    "# Model"
   ]
  },
  {
   "cell_type": "code",
   "execution_count": null,
   "id": "005b24af",
   "metadata": {
    "ExecuteTime": {
     "end_time": "2022-02-11T10:35:07.463551Z",
     "start_time": "2022-02-11T10:35:02.136Z"
    }
   },
   "outputs": [],
   "source": [
    "setup(data=df1, target='churn')"
   ]
  },
  {
   "cell_type": "code",
   "execution_count": null,
   "id": "5c3fffc7",
   "metadata": {
    "ExecuteTime": {
     "end_time": "2022-02-11T10:35:07.463551Z",
     "start_time": "2022-02-11T10:35:02.140Z"
    }
   },
   "outputs": [],
   "source": [
    "best_model = compare_models(n_select=5)"
   ]
  },
  {
   "cell_type": "code",
   "execution_count": null,
   "id": "f9d67d4d",
   "metadata": {
    "ExecuteTime": {
     "end_time": "2022-02-11T10:35:07.463551Z",
     "start_time": "2022-02-11T10:35:02.146Z"
    }
   },
   "outputs": [],
   "source": [
    "len(df1.loc[df1['churn']==0])/len(df1)"
   ]
  },
  {
   "cell_type": "code",
   "execution_count": null,
   "id": "2cc83834",
   "metadata": {
    "ExecuteTime": {
     "end_time": "2022-02-11T10:35:07.463551Z",
     "start_time": "2022-02-11T10:35:02.154Z"
    }
   },
   "outputs": [],
   "source": [
    "t = tune_model(best_model[0])"
   ]
  },
  {
   "cell_type": "code",
   "execution_count": null,
   "id": "6c16e831",
   "metadata": {
    "ExecuteTime": {
     "end_time": "2022-02-11T10:35:07.479175Z",
     "start_time": "2022-02-11T10:35:02.158Z"
    }
   },
   "outputs": [],
   "source": [
    "final_model = finalize_model(t)"
   ]
  },
  {
   "cell_type": "code",
   "execution_count": null,
   "id": "c485aa08",
   "metadata": {
    "ExecuteTime": {
     "end_time": "2022-02-11T10:35:07.479175Z",
     "start_time": "2022-02-11T10:35:02.163Z"
    }
   },
   "outputs": [],
   "source": [
    "predict = predict_model(final_model, df_test)\n",
    "predict"
   ]
  },
  {
   "cell_type": "code",
   "execution_count": null,
   "id": "74323c79",
   "metadata": {
    "ExecuteTime": {
     "end_time": "2022-02-11T10:35:07.479175Z",
     "start_time": "2022-02-11T10:35:02.169Z"
    }
   },
   "outputs": [],
   "source": [
    "len(predict.loc[predict['Label']==0])"
   ]
  },
  {
   "cell_type": "code",
   "execution_count": null,
   "id": "7c2d7df0",
   "metadata": {
    "ExecuteTime": {
     "end_time": "2022-02-11T10:35:07.479175Z",
     "start_time": "2022-02-11T10:35:02.174Z"
    }
   },
   "outputs": [],
   "source": [
    "len(predict.loc[predict['Label']==1])"
   ]
  },
  {
   "cell_type": "code",
   "execution_count": null,
   "id": "d3f03d49",
   "metadata": {},
   "outputs": [],
   "source": []
  }
 ],
 "metadata": {
  "kernelspec": {
   "display_name": "Python 3",
   "language": "python",
   "name": "python3"
  },
  "language_info": {
   "codemirror_mode": {
    "name": "ipython",
    "version": 3
   },
   "file_extension": ".py",
   "mimetype": "text/x-python",
   "name": "python",
   "nbconvert_exporter": "python",
   "pygments_lexer": "ipython3",
   "version": "3.8.8"
  },
  "varInspector": {
   "cols": {
    "lenName": 16,
    "lenType": 16,
    "lenVar": 40
   },
   "kernels_config": {
    "python": {
     "delete_cmd_postfix": "",
     "delete_cmd_prefix": "del ",
     "library": "var_list.py",
     "varRefreshCmd": "print(var_dic_list())"
    },
    "r": {
     "delete_cmd_postfix": ") ",
     "delete_cmd_prefix": "rm(",
     "library": "var_list.r",
     "varRefreshCmd": "cat(var_dic_list()) "
    }
   },
   "types_to_exclude": [
    "module",
    "function",
    "builtin_function_or_method",
    "instance",
    "_Feature"
   ],
   "window_display": false
  }
 },
 "nbformat": 4,
 "nbformat_minor": 5
}
